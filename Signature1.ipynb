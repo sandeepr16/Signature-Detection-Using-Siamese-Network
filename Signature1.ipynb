{
  "nbformat": 4,
  "nbformat_minor": 0,
  "metadata": {
    "kernelspec": {
      "display_name": "Python 3",
      "language": "python",
      "name": "python3"
    },
    "language_info": {
      "codemirror_mode": {
        "name": "ipython",
        "version": 3
      },
      "file_extension": ".py",
      "mimetype": "text/x-python",
      "name": "python",
      "nbconvert_exporter": "python",
      "pygments_lexer": "ipython3",
      "version": "3.7.1"
    },
    "colab": {
      "name": "Signature1.ipynb",
      "provenance": [],
      "collapsed_sections": []
    },
    "accelerator": "TPU"
  },
  "cells": [
    {
      "cell_type": "code",
      "metadata": {
        "id": "wCZgkqKfiFI0",
        "colab_type": "code",
        "outputId": "69163067-7881-4d6a-ffa4-353fa37d32fa",
        "colab": {
          "base_uri": "https://localhost:8080/",
          "height": 121
        }
      },
      "source": [
        "from google.colab import drive\n",
        "drive.mount('/content/drive')"
      ],
      "execution_count": 0,
      "outputs": [
        {
          "output_type": "stream",
          "text": [
            "Go to this URL in a browser: https://accounts.google.com/o/oauth2/auth?client_id=947318989803-6bn6qk8qdgf4n4g3pfee6491hc0brc4i.apps.googleusercontent.com&redirect_uri=urn%3aietf%3awg%3aoauth%3a2.0%3aoob&response_type=code&scope=email%20https%3a%2f%2fwww.googleapis.com%2fauth%2fdocs.test%20https%3a%2f%2fwww.googleapis.com%2fauth%2fdrive%20https%3a%2f%2fwww.googleapis.com%2fauth%2fdrive.photos.readonly%20https%3a%2f%2fwww.googleapis.com%2fauth%2fpeopleapi.readonly\n",
            "\n",
            "Enter your authorization code:\n",
            "··········\n",
            "Mounted at /content/drive\n"
          ],
          "name": "stdout"
        }
      ]
    },
    {
      "cell_type": "code",
      "metadata": {
        "id": "Z6UMEmogjizt",
        "colab_type": "code",
        "outputId": "5af124b8-8281-48c0-c2a9-08fa7ea068ba",
        "colab": {
          "base_uri": "https://localhost:8080/",
          "height": 504
        }
      },
      "source": [
        "!pip install keras-tuner"
      ],
      "execution_count": 0,
      "outputs": [
        {
          "output_type": "stream",
          "text": [
            "Collecting keras-tuner\n",
            "\u001b[?25l  Downloading https://files.pythonhosted.org/packages/a7/f7/4b41b6832abf4c9bef71a664dc563adb25afc5812831667c6db572b1a261/keras-tuner-1.0.1.tar.gz (54kB)\n",
            "\r\u001b[K     |██████                          | 10kB 18.4MB/s eta 0:00:01\r\u001b[K     |████████████                    | 20kB 2.2MB/s eta 0:00:01\r\u001b[K     |██████████████████              | 30kB 2.6MB/s eta 0:00:01\r\u001b[K     |████████████████████████        | 40kB 3.0MB/s eta 0:00:01\r\u001b[K     |██████████████████████████████  | 51kB 2.5MB/s eta 0:00:01\r\u001b[K     |████████████████████████████████| 61kB 2.2MB/s \n",
            "\u001b[?25hRequirement already satisfied: future in /usr/local/lib/python3.6/dist-packages (from keras-tuner) (0.16.0)\n",
            "Requirement already satisfied: numpy in /usr/local/lib/python3.6/dist-packages (from keras-tuner) (1.18.4)\n",
            "Requirement already satisfied: tabulate in /usr/local/lib/python3.6/dist-packages (from keras-tuner) (0.8.7)\n",
            "Collecting terminaltables\n",
            "  Downloading https://files.pythonhosted.org/packages/9b/c4/4a21174f32f8a7e1104798c445dacdc1d4df86f2f26722767034e4de4bff/terminaltables-3.1.0.tar.gz\n",
            "Collecting colorama\n",
            "  Downloading https://files.pythonhosted.org/packages/c9/dc/45cdef1b4d119eb96316b3117e6d5708a08029992b2fee2c143c7a0a5cc5/colorama-0.4.3-py2.py3-none-any.whl\n",
            "Requirement already satisfied: tqdm in /usr/local/lib/python3.6/dist-packages (from keras-tuner) (4.41.1)\n",
            "Requirement already satisfied: requests in /usr/local/lib/python3.6/dist-packages (from keras-tuner) (2.23.0)\n",
            "Requirement already satisfied: scipy in /usr/local/lib/python3.6/dist-packages (from keras-tuner) (1.4.1)\n",
            "Requirement already satisfied: scikit-learn in /usr/local/lib/python3.6/dist-packages (from keras-tuner) (0.22.2.post1)\n",
            "Requirement already satisfied: urllib3!=1.25.0,!=1.25.1,<1.26,>=1.21.1 in /usr/local/lib/python3.6/dist-packages (from requests->keras-tuner) (1.24.3)\n",
            "Requirement already satisfied: chardet<4,>=3.0.2 in /usr/local/lib/python3.6/dist-packages (from requests->keras-tuner) (3.0.4)\n",
            "Requirement already satisfied: idna<3,>=2.5 in /usr/local/lib/python3.6/dist-packages (from requests->keras-tuner) (2.9)\n",
            "Requirement already satisfied: certifi>=2017.4.17 in /usr/local/lib/python3.6/dist-packages (from requests->keras-tuner) (2020.4.5.1)\n",
            "Requirement already satisfied: joblib>=0.11 in /usr/local/lib/python3.6/dist-packages (from scikit-learn->keras-tuner) (0.15.1)\n",
            "Building wheels for collected packages: keras-tuner, terminaltables\n",
            "  Building wheel for keras-tuner (setup.py) ... \u001b[?25l\u001b[?25hdone\n",
            "  Created wheel for keras-tuner: filename=keras_tuner-1.0.1-cp36-none-any.whl size=73200 sha256=94be1df7a964a051d7a20c513770a31387ee7114babd573c2ab63903dba04d2d\n",
            "  Stored in directory: /root/.cache/pip/wheels/b9/cc/62/52716b70dd90f3db12519233c3a93a5360bc672da1a10ded43\n",
            "  Building wheel for terminaltables (setup.py) ... \u001b[?25l\u001b[?25hdone\n",
            "  Created wheel for terminaltables: filename=terminaltables-3.1.0-cp36-none-any.whl size=15356 sha256=506c45a8ad8c727415569aa33b158e7672ef99d8ff25c7a3c9b126d044f965a1\n",
            "  Stored in directory: /root/.cache/pip/wheels/30/6b/50/6c75775b681fb36cdfac7f19799888ef9d8813aff9e379663e\n",
            "Successfully built keras-tuner terminaltables\n",
            "Installing collected packages: terminaltables, colorama, keras-tuner\n",
            "Successfully installed colorama-0.4.3 keras-tuner-1.0.1 terminaltables-3.1.0\n"
          ],
          "name": "stdout"
        }
      ]
    },
    {
      "cell_type": "code",
      "metadata": {
        "id": "fJSSKGA2kQ8E",
        "colab_type": "code",
        "outputId": "686aaf41-aaa6-45dc-c448-bb85142ac4ce",
        "colab": {
          "base_uri": "https://localhost:8080/",
          "height": 588
        }
      },
      "source": [
        "!pip install black==19.10b0\n",
        "!pip install loguru==0.4.0"
      ],
      "execution_count": 0,
      "outputs": [
        {
          "output_type": "stream",
          "text": [
            "Collecting black==19.10b0\n",
            "\u001b[?25l  Downloading https://files.pythonhosted.org/packages/fd/bb/ad34bbc93d1bea3de086d7c59e528d4a503ac8fe318bd1fa48605584c3d2/black-19.10b0-py36-none-any.whl (97kB)\n",
            "\r\u001b[K     |███▍                            | 10kB 11.5MB/s eta 0:00:01\r\u001b[K     |██████▊                         | 20kB 2.2MB/s eta 0:00:01\r\u001b[K     |██████████                      | 30kB 2.8MB/s eta 0:00:01\r\u001b[K     |█████████████▍                  | 40kB 3.1MB/s eta 0:00:01\r\u001b[K     |████████████████▉               | 51kB 2.5MB/s eta 0:00:01\r\u001b[K     |████████████████████▏           | 61kB 2.7MB/s eta 0:00:01\r\u001b[K     |███████████████████████▌        | 71kB 3.0MB/s eta 0:00:01\r\u001b[K     |██████████████████████████▉     | 81kB 3.3MB/s eta 0:00:01\r\u001b[K     |██████████████████████████████▎ | 92kB 3.5MB/s eta 0:00:01\r\u001b[K     |████████████████████████████████| 102kB 2.7MB/s \n",
            "\u001b[?25hCollecting toml>=0.9.4\n",
            "  Downloading https://files.pythonhosted.org/packages/9f/e1/1b40b80f2e1663a6b9f497123c11d7d988c0919abbf3c3f2688e448c5363/toml-0.10.1-py2.py3-none-any.whl\n",
            "Collecting appdirs\n",
            "  Downloading https://files.pythonhosted.org/packages/3b/00/2344469e2084fb287c2e0b57b72910309874c3245463acd6cf5e3db69324/appdirs-1.4.4-py2.py3-none-any.whl\n",
            "Requirement already satisfied: click>=6.5 in /usr/local/lib/python3.6/dist-packages (from black==19.10b0) (7.1.2)\n",
            "Collecting pathspec<1,>=0.6\n",
            "  Downloading https://files.pythonhosted.org/packages/5d/d0/887c58853bd4b6ffc7aa9cdba4fc57d7b979b45888a6bd47e4568e1cf868/pathspec-0.8.0-py2.py3-none-any.whl\n",
            "Requirement already satisfied: regex in /usr/local/lib/python3.6/dist-packages (from black==19.10b0) (2019.12.20)\n",
            "Requirement already satisfied: attrs>=18.1.0 in /usr/local/lib/python3.6/dist-packages (from black==19.10b0) (19.3.0)\n",
            "Collecting typed-ast>=1.4.0\n",
            "\u001b[?25l  Downloading https://files.pythonhosted.org/packages/90/ed/5459080d95eb87a02fe860d447197be63b6e2b5e9ff73c2b0a85622994f4/typed_ast-1.4.1-cp36-cp36m-manylinux1_x86_64.whl (737kB)\n",
            "\u001b[K     |████████████████████████████████| 747kB 10.7MB/s \n",
            "\u001b[?25hInstalling collected packages: toml, appdirs, pathspec, typed-ast, black\n",
            "Successfully installed appdirs-1.4.4 black-19.10b0 pathspec-0.8.0 toml-0.10.1 typed-ast-1.4.1\n",
            "Collecting loguru==0.4.0\n",
            "\u001b[?25l  Downloading https://files.pythonhosted.org/packages/57/dd/be19f64691d250bbd98906254307abd626dbbd674b019a313f57d6338bc7/loguru-0.4.0-py3-none-any.whl (52kB)\n",
            "\u001b[K     |████████████████████████████████| 61kB 2.2MB/s \n",
            "\u001b[?25hCollecting aiocontextvars>=0.2.0; python_version < \"3.7\"\n",
            "  Downloading https://files.pythonhosted.org/packages/db/c1/7a723e8d988de0a2e623927396e54b6831b68cb80dce468c945b849a9385/aiocontextvars-0.2.2-py2.py3-none-any.whl\n",
            "Collecting contextvars==2.4; python_version < \"3.7\"\n",
            "  Downloading https://files.pythonhosted.org/packages/83/96/55b82d9f13763be9d672622e1b8106c85acb83edd7cc2fa5bc67cd9877e9/contextvars-2.4.tar.gz\n",
            "Collecting immutables>=0.9\n",
            "\u001b[?25l  Downloading https://files.pythonhosted.org/packages/99/e0/ea6fd4697120327d26773b5a84853f897a68e33d3f9376b00a8ff96e4f63/immutables-0.14-cp36-cp36m-manylinux1_x86_64.whl (98kB)\n",
            "\u001b[K     |████████████████████████████████| 102kB 5.2MB/s \n",
            "\u001b[?25hBuilding wheels for collected packages: contextvars\n",
            "  Building wheel for contextvars (setup.py) ... \u001b[?25l\u001b[?25hdone\n",
            "  Created wheel for contextvars: filename=contextvars-2.4-cp36-none-any.whl size=7666 sha256=6cd8c31ada293992a5f7d01762ff3a35472b4b8eebf1d5fad159dcd924f7db71\n",
            "  Stored in directory: /root/.cache/pip/wheels/a5/7d/68/1ebae2668bda2228686e3c1cf16f2c2384cea6e9334ad5f6de\n",
            "Successfully built contextvars\n",
            "Installing collected packages: immutables, contextvars, aiocontextvars, loguru\n",
            "Successfully installed aiocontextvars-0.2.2 contextvars-2.4 immutables-0.14 loguru-0.4.0\n"
          ],
          "name": "stdout"
        }
      ]
    },
    {
      "cell_type": "code",
      "metadata": {
        "id": "ZlECGatSi1t5",
        "colab_type": "code",
        "colab": {}
      },
      "source": [
        "import tensorflow as tf\n",
        "from tensorflow.keras.models import Sequential\n",
        "from tensorflow.keras.optimizers import Adam\n",
        "from tensorflow.keras.layers import Conv2D, ZeroPadding2D, Activation, Input, concatenate, Dropout\n",
        "from tensorflow.keras.models import Model\n",
        "from kerastuner import HyperModel\n",
        "from keras.layers.normalization import BatchNormalization\n",
        "from keras.layers.pooling import MaxPooling2D\n",
        "from keras.layers.core import Lambda, Flatten, Dense\n",
        "\n",
        "from keras.engine.topology import Layer\n",
        "from keras.regularizers import l2\n",
        "from keras import backend as K\n",
        "\n",
        "K.set_image_data_format('channels_last')"
      ],
      "execution_count": 0,
      "outputs": []
    },
    {
      "cell_type": "code",
      "metadata": {
        "id": "EfWfJdDch6oh",
        "colab_type": "code",
        "colab": {}
      },
      "source": [
        "#importing required library\n",
        "import keras\n",
        "import os\n",
        "import glob\n",
        "import pandas as pd\n",
        "import numpy as np\n",
        "import cv2"
      ],
      "execution_count": 0,
      "outputs": []
    },
    {
      "cell_type": "code",
      "metadata": {
        "id": "IqX0lYxeh6oo",
        "colab_type": "code",
        "outputId": "c0b96950-a7d4-42fe-e01a-3756f3c565fe",
        "colab": {
          "base_uri": "https://localhost:8080/",
          "height": 50
        }
      },
      "source": [
        "#preprocessing the image data\n",
        "file_dir1 = '/content/drive/My Drive/siamese_net_internship/input1/*'\n",
        "file_dir2 = '/content/drive/My Drive/siamese_net_internship/input2/*'\n",
        "files = glob.glob(file_dir1)\n",
        "print(len(files))\n",
        "x1 = []\n",
        "for f1 in files:\n",
        "      img_dir = os.path.join(f1)\n",
        "  #print('img_dir',img_dir)\n",
        "      images = glob.glob(img_dir)\n",
        "      for img in images:\n",
        "        img_temp = cv2.imread(img,cv2.IMREAD_GRAYSCALE)\n",
        "        img_temp = cv2.resize(img_temp,(500,200))\n",
        "        img_temo = img_temp/255\n",
        "        x1.append(img_temp)\n",
        "import numpy as np\n",
        "x1 = np.array(x1)\n",
        "print(x1.shape)"
      ],
      "execution_count": 0,
      "outputs": [
        {
          "output_type": "stream",
          "text": [
            "250\n",
            "(250, 200, 500)\n"
          ],
          "name": "stdout"
        }
      ]
    },
    {
      "cell_type": "code",
      "metadata": {
        "id": "V8zIJVBih6ox",
        "colab_type": "code",
        "outputId": "d475df66-ecce-4628-98d6-e788a7e4c57f",
        "colab": {
          "base_uri": "https://localhost:8080/",
          "height": 34
        }
      },
      "source": [
        "#%%\n",
        "files = glob.glob(file_dir2)\n",
        "x2 = []\n",
        "for f1 in files:\n",
        "  img_dir = os.path.join(f1)\n",
        "  images = glob.glob(img_dir)\n",
        "  \n",
        "  for img in images:\n",
        "    img_temp = cv2.imread(img,cv2.IMREAD_GRAYSCALE)\n",
        "    img_temp = cv2.resize(img_temp,(500,200))\n",
        "    img_temo = img_temp/255\n",
        "    x2.append(img_temp)\n",
        "import numpy as np\n",
        "x2 = np.array(x2)\n",
        "print(x2.shape)"
      ],
      "execution_count": 0,
      "outputs": [
        {
          "output_type": "stream",
          "text": [
            "(250, 200, 500)\n"
          ],
          "name": "stdout"
        }
      ]
    },
    {
      "cell_type": "code",
      "metadata": {
        "id": "gKxHcgyjh6o2",
        "colab_type": "code",
        "colab": {}
      },
      "source": [
        "ylabel = '/content/drive/My Drive/siamese_net_internship/ylabel.csv'\n",
        "y = pd.read_csv(ylabel)\n",
        "\n"
      ],
      "execution_count": 0,
      "outputs": []
    },
    {
      "cell_type": "code",
      "metadata": {
        "id": "CUC9JxDgh6o9",
        "colab_type": "code",
        "colab": {}
      },
      "source": [
        "from sklearn.utils import shuffle\n",
        "x1,x2,y = shuffle(x1,x2,y,random_state=2)\n",
        "\n",
        "# splitting dataset into train test\n",
        "x1_train = x1[0:180]\n",
        "x1_train = x1_train.reshape(180,200,500,1)\n",
        "x1_val = x1[180:210]\n",
        "x1_val = x1_val.reshape(30,200,500,1)\n",
        "\n",
        "x2_train = x2[0:180]\n",
        "x2_train = x2_train.reshape(180,200,500,1)\n",
        "x2_val = x2[180:210]\n",
        "x2_val = x2_val.reshape(30,200,500,1)\n",
        "\n",
        "x1_test = x1[210 :]\n",
        "x1_test = x1_test.reshape(40,200,500,1)\n",
        "x2_test = x2[210 :]\n",
        "x2_test = x2_test.reshape(40,200,500,1)\n",
        "\n",
        "y_train = y[0:180]\n",
        "y_val = y[180:210]\n",
        "y_test = y[210 :]"
      ],
      "execution_count": 0,
      "outputs": []
    },
    {
      "cell_type": "code",
      "metadata": {
        "id": "xEjF13BSh6pD",
        "colab_type": "code",
        "colab": {}
      },
      "source": [
        "  \n",
        "from kerastuner import HyperModel\n",
        "from tensorflow import keras\n",
        "from tensorflow.keras.layers import Conv2D, Dense, Dropout, Flatten, MaxPooling2D\n",
        "\n",
        "\n",
        "class CNNHyperModel(HyperModel):\n",
        "    def __init__(self, input_shape, num_classes):\n",
        "        self.input_shape = input_shape\n",
        "        self.num_classes = num_classes\n",
        "\n",
        "    def build(self, hp):\n",
        "        input_shape = (200,500,1)\n",
        "        left_input=Input(input_shape)\n",
        "        right_input=Input(input_shape)\n",
        "        model = keras.Sequential()\n",
        "        model.add(\n",
        "            Conv2D(\n",
        "                filters=16,\n",
        "                kernel_size=3,\n",
        "                activation=\"relu\",\n",
        "                input_shape=self.input_shape,\n",
        "            )\n",
        "        )\n",
        "        model.add(Conv2D(filters=16, activation=\"relu\", kernel_size=3))\n",
        "        model.add(MaxPooling2D(pool_size=2))\n",
        "        model.add(\n",
        "            Dropout(\n",
        "                rate=hp.Float(\n",
        "                    \"dropout_1\", min_value=0.0, max_value=0.5, default=0.25, step=0.05,\n",
        "                )\n",
        "            )\n",
        "        )\n",
        "        model.add(Conv2D(filters=32, kernel_size=3, activation=\"relu\"))\n",
        "        model.add(\n",
        "            Conv2D(\n",
        "                filters=hp.Choice(\"num_filters\", values=[32, 64], default=64,),\n",
        "                activation=\"relu\",\n",
        "                kernel_size=3,\n",
        "            )\n",
        "        )\n",
        "        model.add(MaxPooling2D(pool_size=2))\n",
        "        model.add(\n",
        "            Dropout(\n",
        "                rate=hp.Float(\n",
        "                    \"dropout_2\", min_value=0.0, max_value=0.5, default=0.25, step=0.05,\n",
        "                )\n",
        "            )\n",
        "        )\n",
        "        model.add(Flatten())\n",
        "        model.add(\n",
        "            Dense(\n",
        "                units=hp.Int(\n",
        "                    \"units\", min_value=32, max_value=512, step=32, default=128\n",
        "                ),\n",
        "                activation=hp.Choice(\n",
        "                    \"dense_activation\",\n",
        "                    values=[\"relu\", \"tanh\", \"sigmoid\"],\n",
        "                    default=\"relu\",\n",
        "                ),\n",
        "            )\n",
        "        )\n",
        "        model.add(\n",
        "            Dropout(\n",
        "                rate=hp.Float(\n",
        "                    \"dropout_3\", min_value=0.0, max_value=0.5, default=0.25, step=0.05\n",
        "                )\n",
        "            )\n",
        "        )\n",
        "        model.add(Dense(self.num_classes, activation=\"softmax\"))\n",
        "    \n",
        "        encoded_l=model(left_input)\n",
        "        encoded_r=model(right_input)\n",
        "        \n",
        "        L1_layer = tf.keras.layers.Lambda(lambda tensors:K.abs(tensors[0]-tensors[1]))\n",
        "        L1_distance=L1_layer([encoded_l,encoded_r])\n",
        "        \n",
        "        prediction=Dense(1,activation='sigmoid')(L1_distance)\n",
        "    \n",
        "        siamese_net1 = Model(inputs=[left_input,right_input],outputs=prediction)\n",
        "        siamese_net1.compile(\n",
        "            optimizer=keras.optimizers.Adam(\n",
        "                hp.Float(\n",
        "                    \"learning_rate\",\n",
        "                    min_value=1e-4,\n",
        "                    max_value=1e-2,\n",
        "                    sampling=\"LOG\",\n",
        "                    default=1e-3,\n",
        "                )\n",
        "            ),\n",
        "            loss=\"binary_crossentropy\",\n",
        "            metrics=[\"accuracy\"])\n",
        "        return siamese_net1\n",
        "hypermodel = CNNHyperModel(input_shape=INPUT_SHAPE, num_classes=NUM_CLASSES)"
      ],
      "execution_count": 0,
      "outputs": []
    },
    {
      "cell_type": "code",
      "metadata": {
        "id": "XmdLc857h6pS",
        "colab_type": "code",
        "colab": {}
      },
      "source": [
        "# model = get_siamese_model((200,500,1))\n",
        "# optimizer = Adam(lr=0.001)\n",
        "# model.compile(loss='binary_crossentropy', optimizer=optimizer, metrics=['accuracy'])\n",
        "# print(\"starting training process\")\n",
        "# print(\"...............................\")\n",
        "# #t_start = time.time()\n",
        "# model.fit([x1_train,x2_train],y_train,verbose=1,batch_size=5,validation_data=[[x1_val,x2_val],y_val],epochs =20,shuffle = True)\n",
        "# scores = model.evaluate([x1_test,x2_test],y_test,verbose=1)\n",
        "# print(scores)\n",
        "# model.save('siamese_net.h5')\n",
        "# #t_stop = (time.time()-t_start())\n",
        "# #print(t_stop)"
      ],
      "execution_count": 0,
      "outputs": []
    },
    {
      "cell_type": "code",
      "metadata": {
        "id": "mhxHsrdIh6pZ",
        "colab_type": "code",
        "colab": {}
      },
      "source": [
        "import time\n",
        "\n",
        "from kerastuner.tuners import (\n",
        "    BayesianOptimization,\n",
        "    Hyperband,\n",
        "    RandomSearch,\n",
        ")\n",
        "from loguru import logger\n",
        "from pathlib import Path\n",
        "\n",
        "# from Hypermodels import CNNHyperModel\n",
        "# from utils import (\n",
        "#     set_gpu_config,\n",
        "#     load_data,\n",
        "# )\n",
        "\n",
        "SEED = 1\n",
        "\n",
        "NUM_CLASSES = 10\n",
        "INPUT_SHAPE = (200,500,1)\n",
        "\n",
        "N_EPOCH_SEARCH = 40\n",
        "HYPERBAND_MAX_EPOCHS = 40\n",
        "MAX_TRIALS = 20\n",
        "EXECUTION_PER_TRIAL = 2\n",
        "BAYESIAN_NUM_INITIAL_POINTS = 1\n",
        "x_test, x_train, y_test, y_train =[x1_test,x2_test],[x1_train,x2_train],y_test,y_train\n",
        "\n",
        "def run_hyperparameter_tuning():\n",
        "    \n",
        "\n",
        "    hypermodel = CNNHyperModel(input_shape=INPUT_SHAPE, num_classes=NUM_CLASSES)\n",
        "\n",
        "    output_dir = Path(\"./output/cifar10/\")\n",
        "    tuners = define_tuners(\n",
        "        hypermodel, directory=output_dir, project_name=\"simple_cnn_tuning\"\n",
        "    )\n",
        "\n",
        "    results = []\n",
        "    for tuner in tuners:\n",
        "        elapsed_time, loss, accuracy = tuner_evaluation(\n",
        "            tuner, x_test, x_train, y_test, y_train\n",
        "        )\n",
        "        logger.info(\n",
        "            f\"Elapsed time = {elapsed_time:10.4f} s, accuracy = {accuracy}, loss = {loss}\"\n",
        "        )\n",
        "        results.append([elapsed_time, loss, accuracy])\n",
        "    logger.info(results)\n",
        "\n",
        "\n",
        "def tuner_evaluation(tuner, x_test, x_train, y_test, y_train):\n",
        "    \n",
        "\n",
        "    # Overview of the task\n",
        "    tuner.search_space_summary()\n",
        "\n",
        "    # Performs the hyperparameter tuning\n",
        "    logger.info(\"Start hyperparameter tuning\")\n",
        "    search_start = time.time()\n",
        "    tuner.search(x_train, y_train, epochs=N_EPOCH_SEARCH, validation_data=([x1_val,x2_val],y_val))\n",
        "    search_end = time.time()\n",
        "    elapsed_time = search_end - search_start\n",
        "\n",
        "    # Show a summary of the search\n",
        "    tuner.results_summary()\n",
        "\n",
        "    # Retrieve the best model.\n",
        "    best_model = tuner.get_best_models(num_models=1)[0]\n",
        "\n",
        "    # Evaluate the best model.\n",
        "    loss, accuracy = best_model.evaluate(x_test, y_test)\n",
        "    return elapsed_time, loss, accuracy\n",
        "\n",
        "\n",
        "def define_tuners(hypermodel, directory, project_name):\n",
        "    random_tuner = RandomSearch(\n",
        "        hypermodel,\n",
        "        objective=\"val_accuracy\",\n",
        "        seed=SEED,\n",
        "        max_trials=MAX_TRIALS,\n",
        "        executions_per_trial=EXECUTION_PER_TRIAL,\n",
        "        directory=f\"{directory}_random_search\",\n",
        "        project_name=project_name,\n",
        "    )\n",
        "    hyperband_tuner = Hyperband(\n",
        "        hypermodel,\n",
        "        max_epochs=HYPERBAND_MAX_EPOCHS,\n",
        "        objective=\"val_accuracy\",\n",
        "        seed=SEED,\n",
        "        executions_per_trial=EXECUTION_PER_TRIAL,\n",
        "        directory=f\"{directory}_hyperband\",\n",
        "        project_name=project_name,\n",
        "    )\n",
        "    bayesian_tuner = BayesianOptimization(\n",
        "        hypermodel,\n",
        "        objective='val_accuracy',\n",
        "        seed=SEED,\n",
        "        num_initial_points=BAYESIAN_NUM_INITIAL_POINTS,\n",
        "        max_trials=MAX_TRIALS,\n",
        "        directory=f\"{directory}_bayesian\",\n",
        "        project_name=project_name\n",
        "    )\n",
        "    return [random_tuner, hyperband_tuner, bayesian_tuner]"
      ],
      "execution_count": 0,
      "outputs": []
    },
    {
      "cell_type": "code",
      "metadata": {
        "id": "pZp59MWMmCuX",
        "colab_type": "code",
        "outputId": "16f0728b-d9d1-4c8e-9fb1-e064d263a4fd",
        "colab": {
          "base_uri": "https://localhost:8080/",
          "height": 1000
        }
      },
      "source": [
        "run_hyperparameter_tuning()\n"
      ],
      "execution_count": 0,
      "outputs": [
        {
          "output_type": "stream",
          "text": [
            "INFO:tensorflow:Reloading Oracle from existing project output/cifar10_random_search/simple_cnn_tuning/oracle.json\n"
          ],
          "name": "stdout"
        },
        {
          "output_type": "display_data",
          "data": {
            "text/html": [
              "<span style=\"color:#4527A0\"><h1 style=\"font-size:18px\">Search space summary</h1></span>"
            ],
            "text/plain": [
              "<IPython.core.display.HTML object>"
            ]
          },
          "metadata": {
            "tags": []
          }
        },
        {
          "output_type": "display_data",
          "data": {
            "text/html": [
              "<span style=\"color:cyan\"> |-Default search space size: 7</span>"
            ],
            "text/plain": [
              "<IPython.core.display.HTML object>"
            ]
          },
          "metadata": {
            "tags": []
          }
        },
        {
          "output_type": "display_data",
          "data": {
            "text/html": [
              "<span style=\"color:#7E57C2\"><h2 style=\"font-size:16px\">dropout_1 (Float)</h2></span>"
            ],
            "text/plain": [
              "<IPython.core.display.HTML object>"
            ]
          },
          "metadata": {
            "tags": []
          }
        },
        {
          "output_type": "display_data",
          "data": {
            "text/html": [
              "<span style=\"color:cyan\"> |-default: 0.25</span>"
            ],
            "text/plain": [
              "<IPython.core.display.HTML object>"
            ]
          },
          "metadata": {
            "tags": []
          }
        },
        {
          "output_type": "display_data",
          "data": {
            "text/html": [
              "<span style=\"color:blue\"> |-max_value: 0.5</span>"
            ],
            "text/plain": [
              "<IPython.core.display.HTML object>"
            ]
          },
          "metadata": {
            "tags": []
          }
        },
        {
          "output_type": "display_data",
          "data": {
            "text/html": [
              "<span style=\"color:cyan\"> |-min_value: 0.0</span>"
            ],
            "text/plain": [
              "<IPython.core.display.HTML object>"
            ]
          },
          "metadata": {
            "tags": []
          }
        },
        {
          "output_type": "display_data",
          "data": {
            "text/html": [
              "<span style=\"color:blue\"> |-sampling: None</span>"
            ],
            "text/plain": [
              "<IPython.core.display.HTML object>"
            ]
          },
          "metadata": {
            "tags": []
          }
        },
        {
          "output_type": "display_data",
          "data": {
            "text/html": [
              "<span style=\"color:cyan\"> |-step: 0.05</span>"
            ],
            "text/plain": [
              "<IPython.core.display.HTML object>"
            ]
          },
          "metadata": {
            "tags": []
          }
        },
        {
          "output_type": "display_data",
          "data": {
            "text/html": [
              "<span style=\"color:#7E57C2\"><h2 style=\"font-size:16px\">num_filters (Choice)</h2></span>"
            ],
            "text/plain": [
              "<IPython.core.display.HTML object>"
            ]
          },
          "metadata": {
            "tags": []
          }
        },
        {
          "output_type": "display_data",
          "data": {
            "text/html": [
              "<span style=\"color:cyan\"> |-default: 64</span>"
            ],
            "text/plain": [
              "<IPython.core.display.HTML object>"
            ]
          },
          "metadata": {
            "tags": []
          }
        },
        {
          "output_type": "display_data",
          "data": {
            "text/html": [
              "<span style=\"color:blue\"> |-ordered: True</span>"
            ],
            "text/plain": [
              "<IPython.core.display.HTML object>"
            ]
          },
          "metadata": {
            "tags": []
          }
        },
        {
          "output_type": "display_data",
          "data": {
            "text/html": [
              "<span style=\"color:cyan\"> |-values: [32, 64]</span>"
            ],
            "text/plain": [
              "<IPython.core.display.HTML object>"
            ]
          },
          "metadata": {
            "tags": []
          }
        },
        {
          "output_type": "display_data",
          "data": {
            "text/html": [
              "<span style=\"color:#7E57C2\"><h2 style=\"font-size:16px\">dropout_2 (Float)</h2></span>"
            ],
            "text/plain": [
              "<IPython.core.display.HTML object>"
            ]
          },
          "metadata": {
            "tags": []
          }
        },
        {
          "output_type": "display_data",
          "data": {
            "text/html": [
              "<span style=\"color:cyan\"> |-default: 0.25</span>"
            ],
            "text/plain": [
              "<IPython.core.display.HTML object>"
            ]
          },
          "metadata": {
            "tags": []
          }
        },
        {
          "output_type": "display_data",
          "data": {
            "text/html": [
              "<span style=\"color:blue\"> |-max_value: 0.5</span>"
            ],
            "text/plain": [
              "<IPython.core.display.HTML object>"
            ]
          },
          "metadata": {
            "tags": []
          }
        },
        {
          "output_type": "display_data",
          "data": {
            "text/html": [
              "<span style=\"color:cyan\"> |-min_value: 0.0</span>"
            ],
            "text/plain": [
              "<IPython.core.display.HTML object>"
            ]
          },
          "metadata": {
            "tags": []
          }
        },
        {
          "output_type": "display_data",
          "data": {
            "text/html": [
              "<span style=\"color:blue\"> |-sampling: None</span>"
            ],
            "text/plain": [
              "<IPython.core.display.HTML object>"
            ]
          },
          "metadata": {
            "tags": []
          }
        },
        {
          "output_type": "display_data",
          "data": {
            "text/html": [
              "<span style=\"color:cyan\"> |-step: 0.05</span>"
            ],
            "text/plain": [
              "<IPython.core.display.HTML object>"
            ]
          },
          "metadata": {
            "tags": []
          }
        },
        {
          "output_type": "display_data",
          "data": {
            "text/html": [
              "<span style=\"color:#7E57C2\"><h2 style=\"font-size:16px\">units (Int)</h2></span>"
            ],
            "text/plain": [
              "<IPython.core.display.HTML object>"
            ]
          },
          "metadata": {
            "tags": []
          }
        },
        {
          "output_type": "display_data",
          "data": {
            "text/html": [
              "<span style=\"color:cyan\"> |-default: 128</span>"
            ],
            "text/plain": [
              "<IPython.core.display.HTML object>"
            ]
          },
          "metadata": {
            "tags": []
          }
        },
        {
          "output_type": "display_data",
          "data": {
            "text/html": [
              "<span style=\"color:blue\"> |-max_value: 512</span>"
            ],
            "text/plain": [
              "<IPython.core.display.HTML object>"
            ]
          },
          "metadata": {
            "tags": []
          }
        },
        {
          "output_type": "display_data",
          "data": {
            "text/html": [
              "<span style=\"color:cyan\"> |-min_value: 32</span>"
            ],
            "text/plain": [
              "<IPython.core.display.HTML object>"
            ]
          },
          "metadata": {
            "tags": []
          }
        },
        {
          "output_type": "display_data",
          "data": {
            "text/html": [
              "<span style=\"color:blue\"> |-sampling: None</span>"
            ],
            "text/plain": [
              "<IPython.core.display.HTML object>"
            ]
          },
          "metadata": {
            "tags": []
          }
        },
        {
          "output_type": "display_data",
          "data": {
            "text/html": [
              "<span style=\"color:cyan\"> |-step: 32</span>"
            ],
            "text/plain": [
              "<IPython.core.display.HTML object>"
            ]
          },
          "metadata": {
            "tags": []
          }
        },
        {
          "output_type": "display_data",
          "data": {
            "text/html": [
              "<span style=\"color:#7E57C2\"><h2 style=\"font-size:16px\">dense_activation (Choice)</h2></span>"
            ],
            "text/plain": [
              "<IPython.core.display.HTML object>"
            ]
          },
          "metadata": {
            "tags": []
          }
        },
        {
          "output_type": "display_data",
          "data": {
            "text/html": [
              "<span style=\"color:cyan\"> |-default: relu</span>"
            ],
            "text/plain": [
              "<IPython.core.display.HTML object>"
            ]
          },
          "metadata": {
            "tags": []
          }
        },
        {
          "output_type": "display_data",
          "data": {
            "text/html": [
              "<span style=\"color:blue\"> |-ordered: False</span>"
            ],
            "text/plain": [
              "<IPython.core.display.HTML object>"
            ]
          },
          "metadata": {
            "tags": []
          }
        },
        {
          "output_type": "display_data",
          "data": {
            "text/html": [
              "<span style=\"color:cyan\"> |-values: ['relu', 'tanh', 'sigmoid']</span>"
            ],
            "text/plain": [
              "<IPython.core.display.HTML object>"
            ]
          },
          "metadata": {
            "tags": []
          }
        },
        {
          "output_type": "display_data",
          "data": {
            "text/html": [
              "<span style=\"color:#7E57C2\"><h2 style=\"font-size:16px\">dropout_3 (Float)</h2></span>"
            ],
            "text/plain": [
              "<IPython.core.display.HTML object>"
            ]
          },
          "metadata": {
            "tags": []
          }
        },
        {
          "output_type": "display_data",
          "data": {
            "text/html": [
              "<span style=\"color:cyan\"> |-default: 0.25</span>"
            ],
            "text/plain": [
              "<IPython.core.display.HTML object>"
            ]
          },
          "metadata": {
            "tags": []
          }
        },
        {
          "output_type": "display_data",
          "data": {
            "text/html": [
              "<span style=\"color:blue\"> |-max_value: 0.5</span>"
            ],
            "text/plain": [
              "<IPython.core.display.HTML object>"
            ]
          },
          "metadata": {
            "tags": []
          }
        },
        {
          "output_type": "display_data",
          "data": {
            "text/html": [
              "<span style=\"color:cyan\"> |-min_value: 0.0</span>"
            ],
            "text/plain": [
              "<IPython.core.display.HTML object>"
            ]
          },
          "metadata": {
            "tags": []
          }
        },
        {
          "output_type": "display_data",
          "data": {
            "text/html": [
              "<span style=\"color:blue\"> |-sampling: None</span>"
            ],
            "text/plain": [
              "<IPython.core.display.HTML object>"
            ]
          },
          "metadata": {
            "tags": []
          }
        },
        {
          "output_type": "display_data",
          "data": {
            "text/html": [
              "<span style=\"color:cyan\"> |-step: 0.05</span>"
            ],
            "text/plain": [
              "<IPython.core.display.HTML object>"
            ]
          },
          "metadata": {
            "tags": []
          }
        },
        {
          "output_type": "display_data",
          "data": {
            "text/html": [
              "<span style=\"color:#7E57C2\"><h2 style=\"font-size:16px\">learning_rate (Float)</h2></span>"
            ],
            "text/plain": [
              "<IPython.core.display.HTML object>"
            ]
          },
          "metadata": {
            "tags": []
          }
        },
        {
          "output_type": "display_data",
          "data": {
            "text/html": [
              "<span style=\"color:cyan\"> |-default: 0.001</span>"
            ],
            "text/plain": [
              "<IPython.core.display.HTML object>"
            ]
          },
          "metadata": {
            "tags": []
          }
        },
        {
          "output_type": "display_data",
          "data": {
            "text/html": [
              "<span style=\"color:blue\"> |-max_value: 0.01</span>"
            ],
            "text/plain": [
              "<IPython.core.display.HTML object>"
            ]
          },
          "metadata": {
            "tags": []
          }
        },
        {
          "output_type": "display_data",
          "data": {
            "text/html": [
              "<span style=\"color:cyan\"> |-min_value: 0.0001</span>"
            ],
            "text/plain": [
              "<IPython.core.display.HTML object>"
            ]
          },
          "metadata": {
            "tags": []
          }
        },
        {
          "output_type": "display_data",
          "data": {
            "text/html": [
              "<span style=\"color:blue\"> |-sampling: log</span>"
            ],
            "text/plain": [
              "<IPython.core.display.HTML object>"
            ]
          },
          "metadata": {
            "tags": []
          }
        },
        {
          "output_type": "display_data",
          "data": {
            "text/html": [
              "<span style=\"color:cyan\"> |-step: None</span>"
            ],
            "text/plain": [
              "<IPython.core.display.HTML object>"
            ]
          },
          "metadata": {
            "tags": []
          }
        },
        {
          "output_type": "stream",
          "text": [
            "2020-06-03 10:11:04.418 | INFO     | __main__:tuner_evaluation:58 - Start hyperparameter tuning\n"
          ],
          "name": "stderr"
        },
        {
          "output_type": "stream",
          "text": [
            "Epoch 1/40\n",
            "6/6 [==============================] - 57s 10s/step - loss: 0.6967 - accuracy: 0.5389 - val_loss: 0.6932 - val_accuracy: 0.3333\n",
            "Epoch 2/40\n",
            "6/6 [==============================] - 57s 10s/step - loss: 0.6941 - accuracy: 0.5333 - val_loss: 0.6933 - val_accuracy: 0.3333\n",
            "Epoch 3/40\n",
            "6/6 [==============================] - 56s 9s/step - loss: 0.6948 - accuracy: 0.5333 - val_loss: 0.6934 - val_accuracy: 0.3333\n",
            "Epoch 4/40\n",
            "6/6 [==============================] - 56s 9s/step - loss: 0.6892 - accuracy: 0.5278 - val_loss: 0.6935 - val_accuracy: 0.3333\n",
            "Epoch 5/40\n",
            "6/6 [==============================] - 56s 9s/step - loss: 0.7093 - accuracy: 0.5389 - val_loss: 0.6937 - val_accuracy: 0.3333\n",
            "Epoch 6/40\n",
            "6/6 [==============================] - 56s 9s/step - loss: 0.7028 - accuracy: 0.5167 - val_loss: 0.6938 - val_accuracy: 0.3333\n",
            "Epoch 7/40\n",
            "6/6 [==============================] - 56s 9s/step - loss: 0.6969 - accuracy: 0.5333 - val_loss: 0.6939 - val_accuracy: 0.3333\n",
            "Epoch 8/40\n",
            "6/6 [==============================] - 56s 9s/step - loss: 0.6990 - accuracy: 0.5222 - val_loss: 0.6939 - val_accuracy: 0.3333\n",
            "Epoch 9/40\n",
            "6/6 [==============================] - 56s 9s/step - loss: 0.6952 - accuracy: 0.5389 - val_loss: 0.6941 - val_accuracy: 0.3333\n",
            "Epoch 10/40\n",
            "6/6 [==============================] - 56s 9s/step - loss: 0.6910 - accuracy: 0.5389 - val_loss: 0.6942 - val_accuracy: 0.3333\n",
            "Epoch 11/40\n",
            "6/6 [==============================] - 56s 9s/step - loss: 0.7006 - accuracy: 0.5444 - val_loss: 0.6944 - val_accuracy: 0.3333\n",
            "Epoch 12/40\n",
            "6/6 [==============================] - 56s 9s/step - loss: 0.6999 - accuracy: 0.5056 - val_loss: 0.6944 - val_accuracy: 0.3333\n",
            "Epoch 13/40\n",
            "6/6 [==============================] - 56s 9s/step - loss: 0.6908 - accuracy: 0.5167 - val_loss: 0.6945 - val_accuracy: 0.3333\n",
            "Epoch 14/40\n",
            "6/6 [==============================] - 56s 9s/step - loss: 0.6907 - accuracy: 0.5056 - val_loss: 0.6945 - val_accuracy: 0.3333\n",
            "Epoch 15/40\n",
            "6/6 [==============================] - 56s 9s/step - loss: 0.7031 - accuracy: 0.5333 - val_loss: 0.6946 - val_accuracy: 0.3333\n",
            "Epoch 16/40\n",
            "6/6 [==============================] - 57s 9s/step - loss: 0.6972 - accuracy: 0.5278 - val_loss: 0.6947 - val_accuracy: 0.3333\n",
            "Epoch 17/40\n",
            "6/6 [==============================] - 56s 9s/step - loss: 0.6909 - accuracy: 0.5778 - val_loss: 0.6948 - val_accuracy: 0.3333\n",
            "Epoch 18/40\n",
            "6/6 [==============================] - 57s 9s/step - loss: 0.6914 - accuracy: 0.5500 - val_loss: 0.6948 - val_accuracy: 0.3333\n",
            "Epoch 19/40\n",
            "6/6 [==============================] - 57s 9s/step - loss: 0.6891 - accuracy: 0.5444 - val_loss: 0.6949 - val_accuracy: 0.3333\n",
            "Epoch 20/40\n",
            "6/6 [==============================] - 57s 10s/step - loss: 0.6989 - accuracy: 0.5167 - val_loss: 0.6949 - val_accuracy: 0.3333\n",
            "Epoch 21/40\n",
            "6/6 [==============================] - 56s 9s/step - loss: 0.6881 - accuracy: 0.5500 - val_loss: 0.6949 - val_accuracy: 0.3333\n",
            "Epoch 22/40\n",
            "6/6 [==============================] - 56s 9s/step - loss: 0.6946 - accuracy: 0.5333 - val_loss: 0.6950 - val_accuracy: 0.3333\n",
            "Epoch 23/40\n",
            "6/6 [==============================] - 57s 10s/step - loss: 0.6921 - accuracy: 0.5278 - val_loss: 0.6950 - val_accuracy: 0.3333\n",
            "Epoch 24/40\n",
            "6/6 [==============================] - 56s 9s/step - loss: 0.6938 - accuracy: 0.5278 - val_loss: 0.6951 - val_accuracy: 0.3333\n",
            "Epoch 25/40\n",
            "6/6 [==============================] - 56s 9s/step - loss: 0.6862 - accuracy: 0.5556 - val_loss: 0.6951 - val_accuracy: 0.3333\n",
            "Epoch 26/40\n",
            "6/6 [==============================] - 57s 9s/step - loss: 0.6964 - accuracy: 0.5389 - val_loss: 0.6951 - val_accuracy: 0.3333\n",
            "Epoch 27/40\n",
            "6/6 [==============================] - 57s 9s/step - loss: 0.6910 - accuracy: 0.5333 - val_loss: 0.6952 - val_accuracy: 0.3333\n",
            "Epoch 28/40\n",
            "6/6 [==============================] - 57s 9s/step - loss: 0.6940 - accuracy: 0.5389 - val_loss: 0.6952 - val_accuracy: 0.3333\n",
            "Epoch 29/40\n",
            "6/6 [==============================] - 58s 10s/step - loss: 0.6890 - accuracy: 0.5389 - val_loss: 0.6952 - val_accuracy: 0.3333\n",
            "Epoch 30/40\n",
            "6/6 [==============================] - 56s 9s/step - loss: 0.6951 - accuracy: 0.4944 - val_loss: 0.6952 - val_accuracy: 0.3333\n",
            "Epoch 31/40\n",
            "6/6 [==============================] - 56s 9s/step - loss: 0.6957 - accuracy: 0.5389 - val_loss: 0.6952 - val_accuracy: 0.3333\n",
            "Epoch 32/40\n",
            "6/6 [==============================] - 57s 9s/step - loss: 0.6929 - accuracy: 0.5111 - val_loss: 0.6953 - val_accuracy: 0.3333\n",
            "Epoch 33/40\n",
            "6/6 [==============================] - 56s 9s/step - loss: 0.6896 - accuracy: 0.5333 - val_loss: 0.6954 - val_accuracy: 0.3333\n",
            "Epoch 34/40\n",
            "6/6 [==============================] - 56s 9s/step - loss: 0.6950 - accuracy: 0.5333 - val_loss: 0.6954 - val_accuracy: 0.3333\n",
            "Epoch 35/40\n",
            "6/6 [==============================] - 56s 9s/step - loss: 0.6953 - accuracy: 0.5333 - val_loss: 0.6954 - val_accuracy: 0.3333\n",
            "Epoch 36/40\n",
            "6/6 [==============================] - 56s 9s/step - loss: 0.6937 - accuracy: 0.5444 - val_loss: 0.6954 - val_accuracy: 0.3333\n",
            "Epoch 37/40\n",
            "6/6 [==============================] - 57s 9s/step - loss: 0.6961 - accuracy: 0.5167 - val_loss: 0.6954 - val_accuracy: 0.3333\n",
            "Epoch 38/40\n",
            "6/6 [==============================] - 56s 9s/step - loss: 0.6907 - accuracy: 0.5278 - val_loss: 0.6954 - val_accuracy: 0.3333\n",
            "Epoch 39/40\n",
            "6/6 [==============================] - 56s 9s/step - loss: 0.6880 - accuracy: 0.5889 - val_loss: 0.6954 - val_accuracy: 0.3333\n",
            "Epoch 40/40\n",
            "6/6 [==============================] - 57s 9s/step - loss: 0.6874 - accuracy: 0.5333 - val_loss: 0.6954 - val_accuracy: 0.3333\n",
            "Epoch 1/40\n",
            "6/6 [==============================] - 59s 10s/step - loss: 0.6860 - accuracy: 0.5500 - val_loss: 0.6932 - val_accuracy: 0.4333\n",
            "Epoch 2/40\n",
            "6/6 [==============================] - 58s 10s/step - loss: 0.6850 - accuracy: 0.5833 - val_loss: 0.6929 - val_accuracy: 0.6667\n",
            "Epoch 3/40\n",
            "6/6 [==============================] - 56s 9s/step - loss: 0.6995 - accuracy: 0.5056 - val_loss: 0.6928 - val_accuracy: 0.6667\n",
            "Epoch 4/40\n",
            "6/6 [==============================] - 56s 9s/step - loss: 0.6931 - accuracy: 0.4889 - val_loss: 0.6927 - val_accuracy: 0.6667\n",
            "Epoch 5/40\n",
            "6/6 [==============================] - 56s 9s/step - loss: 0.6969 - accuracy: 0.4611 - val_loss: 0.6926 - val_accuracy: 0.6667\n",
            "Epoch 6/40\n",
            "6/6 [==============================] - 56s 9s/step - loss: 0.6875 - accuracy: 0.5111 - val_loss: 0.6925 - val_accuracy: 0.6667\n",
            "Epoch 7/40\n",
            "6/6 [==============================] - 56s 9s/step - loss: 0.6950 - accuracy: 0.4778 - val_loss: 0.6924 - val_accuracy: 0.6667\n",
            "Epoch 8/40\n",
            "6/6 [==============================] - 56s 9s/step - loss: 0.6959 - accuracy: 0.5056 - val_loss: 0.6924 - val_accuracy: 0.6667\n",
            "Epoch 9/40\n",
            "6/6 [==============================] - 56s 9s/step - loss: 0.6894 - accuracy: 0.5389 - val_loss: 0.6924 - val_accuracy: 0.6667\n",
            "Epoch 10/40\n",
            "6/6 [==============================] - 57s 9s/step - loss: 0.6974 - accuracy: 0.5056 - val_loss: 0.6923 - val_accuracy: 0.6667\n",
            "Epoch 11/40\n",
            "6/6 [==============================] - 56s 9s/step - loss: 0.7000 - accuracy: 0.4833 - val_loss: 0.6922 - val_accuracy: 0.6667\n",
            "Epoch 12/40\n",
            "6/6 [==============================] - 56s 9s/step - loss: 0.7097 - accuracy: 0.3944 - val_loss: 0.6921 - val_accuracy: 0.6667\n",
            "Epoch 13/40\n",
            "6/6 [==============================] - 56s 9s/step - loss: 0.6876 - accuracy: 0.5278 - val_loss: 0.6921 - val_accuracy: 0.6667\n",
            "Epoch 14/40\n",
            "6/6 [==============================] - 56s 9s/step - loss: 0.6937 - accuracy: 0.5167 - val_loss: 0.6920 - val_accuracy: 0.6667\n",
            "Epoch 15/40\n",
            "6/6 [==============================] - 57s 10s/step - loss: 0.6892 - accuracy: 0.5333 - val_loss: 0.6919 - val_accuracy: 0.6667\n",
            "Epoch 16/40\n",
            "6/6 [==============================] - 56s 9s/step - loss: 0.6943 - accuracy: 0.5000 - val_loss: 0.6918 - val_accuracy: 0.6667\n",
            "Epoch 17/40\n",
            "6/6 [==============================] - 56s 9s/step - loss: 0.7003 - accuracy: 0.4667 - val_loss: 0.6917 - val_accuracy: 0.6667\n",
            "Epoch 18/40\n",
            "6/6 [==============================] - 56s 9s/step - loss: 0.6918 - accuracy: 0.5889 - val_loss: 0.6916 - val_accuracy: 0.6667\n",
            "Epoch 19/40\n",
            "6/6 [==============================] - 56s 9s/step - loss: 0.6865 - accuracy: 0.5667 - val_loss: 0.6916 - val_accuracy: 0.6667\n",
            "Epoch 20/40\n",
            "6/6 [==============================] - 56s 9s/step - loss: 0.6956 - accuracy: 0.5111 - val_loss: 0.6915 - val_accuracy: 0.6667\n",
            "Epoch 21/40\n",
            "6/6 [==============================] - 56s 9s/step - loss: 0.6867 - accuracy: 0.5611 - val_loss: 0.6915 - val_accuracy: 0.6667\n",
            "Epoch 22/40\n",
            "6/6 [==============================] - 56s 9s/step - loss: 0.6938 - accuracy: 0.5167 - val_loss: 0.6914 - val_accuracy: 0.6667\n",
            "Epoch 23/40\n",
            "6/6 [==============================] - 56s 9s/step - loss: 0.6982 - accuracy: 0.4889 - val_loss: 0.6914 - val_accuracy: 0.6667\n",
            "Epoch 24/40\n",
            "6/6 [==============================] - 56s 9s/step - loss: 0.6936 - accuracy: 0.5278 - val_loss: 0.6913 - val_accuracy: 0.6667\n",
            "Epoch 25/40\n",
            "6/6 [==============================] - 57s 9s/step - loss: 0.6909 - accuracy: 0.5722 - val_loss: 0.6912 - val_accuracy: 0.6667\n",
            "Epoch 26/40\n",
            "6/6 [==============================] - 57s 9s/step - loss: 0.6900 - accuracy: 0.5389 - val_loss: 0.6912 - val_accuracy: 0.6667\n",
            "Epoch 27/40\n",
            "6/6 [==============================] - 56s 9s/step - loss: 0.6853 - accuracy: 0.5444 - val_loss: 0.6911 - val_accuracy: 0.6667\n",
            "Epoch 28/40\n",
            "6/6 [==============================] - 57s 10s/step - loss: 0.6917 - accuracy: 0.5167 - val_loss: 0.6911 - val_accuracy: 0.6667\n",
            "Epoch 29/40\n",
            "6/6 [==============================] - 58s 10s/step - loss: 0.6880 - accuracy: 0.5056 - val_loss: 0.6910 - val_accuracy: 0.6667\n",
            "Epoch 30/40\n",
            "6/6 [==============================] - 57s 9s/step - loss: 0.6882 - accuracy: 0.5667 - val_loss: 0.6909 - val_accuracy: 0.6667\n",
            "Epoch 31/40\n",
            "6/6 [==============================] - 57s 9s/step - loss: 0.6902 - accuracy: 0.5167 - val_loss: 0.6908 - val_accuracy: 0.6667\n",
            "Epoch 32/40\n",
            "6/6 [==============================] - 57s 9s/step - loss: 0.6900 - accuracy: 0.5556 - val_loss: 0.6908 - val_accuracy: 0.6667\n",
            "Epoch 33/40\n",
            "6/6 [==============================] - 57s 10s/step - loss: 0.6873 - accuracy: 0.5278 - val_loss: 0.6907 - val_accuracy: 0.6667\n",
            "Epoch 34/40\n",
            "6/6 [==============================] - 57s 10s/step - loss: 0.6936 - accuracy: 0.5056 - val_loss: 0.6907 - val_accuracy: 0.6667\n",
            "Epoch 35/40\n",
            "6/6 [==============================] - 57s 9s/step - loss: 0.6865 - accuracy: 0.5556 - val_loss: 0.6906 - val_accuracy: 0.6667\n",
            "Epoch 36/40\n",
            "6/6 [==============================] - 57s 9s/step - loss: 0.6934 - accuracy: 0.5111 - val_loss: 0.6906 - val_accuracy: 0.6667\n",
            "Epoch 37/40\n",
            "6/6 [==============================] - 57s 9s/step - loss: 0.6987 - accuracy: 0.4833 - val_loss: 0.6905 - val_accuracy: 0.6667\n",
            "Epoch 38/40\n",
            "6/6 [==============================] - 57s 10s/step - loss: 0.7004 - accuracy: 0.5278 - val_loss: 0.6905 - val_accuracy: 0.6667\n",
            "Epoch 39/40\n",
            "6/6 [==============================] - 57s 9s/step - loss: 0.6879 - accuracy: 0.5833 - val_loss: 0.6904 - val_accuracy: 0.6667\n",
            "Epoch 40/40\n",
            "6/6 [==============================] - 56s 9s/step - loss: 0.7001 - accuracy: 0.5111 - val_loss: 0.6903 - val_accuracy: 0.6667\n"
          ],
          "name": "stdout"
        },
        {
          "output_type": "display_data",
          "data": {
            "text/html": [
              "<span style=\"color:#4527A0\"><h1 style=\"font-size:18px\">Trial complete</h1></span>"
            ],
            "text/plain": [
              "<IPython.core.display.HTML object>"
            ]
          },
          "metadata": {
            "tags": []
          }
        },
        {
          "output_type": "display_data",
          "data": {
            "text/html": [
              "<span style=\"color:#4527A0\"><h1 style=\"font-size:18px\">Trial summary</h1></span>"
            ],
            "text/plain": [
              "<IPython.core.display.HTML object>"
            ]
          },
          "metadata": {
            "tags": []
          }
        },
        {
          "output_type": "display_data",
          "data": {
            "text/html": [
              "<span style=\"color:cyan\"> |-Trial ID: ea7161a3b914887cca7ec5d7ab7d6971</span>"
            ],
            "text/plain": [
              "<IPython.core.display.HTML object>"
            ]
          },
          "metadata": {
            "tags": []
          }
        },
        {
          "output_type": "display_data",
          "data": {
            "text/html": [
              "<span style=\"color:cyan\"> |-Score: 0.5000000149011612</span>"
            ],
            "text/plain": [
              "<IPython.core.display.HTML object>"
            ]
          },
          "metadata": {
            "tags": []
          }
        },
        {
          "output_type": "display_data",
          "data": {
            "text/html": [
              "<span style=\"color:cyan\"> |-Best step: 0</span>"
            ],
            "text/plain": [
              "<IPython.core.display.HTML object>"
            ]
          },
          "metadata": {
            "tags": []
          }
        },
        {
          "output_type": "display_data",
          "data": {
            "text/html": [
              "<span style=\"color:#7E57C2\"><h2 style=\"font-size:16px\">Hyperparameters:</h2></span>"
            ],
            "text/plain": [
              "<IPython.core.display.HTML object>"
            ]
          },
          "metadata": {
            "tags": []
          }
        },
        {
          "output_type": "display_data",
          "data": {
            "text/html": [
              "<span style=\"color:cyan\"> |-dense_activation: sigmoid</span>"
            ],
            "text/plain": [
              "<IPython.core.display.HTML object>"
            ]
          },
          "metadata": {
            "tags": []
          }
        },
        {
          "output_type": "display_data",
          "data": {
            "text/html": [
              "<span style=\"color:blue\"> |-dropout_1: 0.05</span>"
            ],
            "text/plain": [
              "<IPython.core.display.HTML object>"
            ]
          },
          "metadata": {
            "tags": []
          }
        },
        {
          "output_type": "display_data",
          "data": {
            "text/html": [
              "<span style=\"color:cyan\"> |-dropout_2: 0.1</span>"
            ],
            "text/plain": [
              "<IPython.core.display.HTML object>"
            ]
          },
          "metadata": {
            "tags": []
          }
        },
        {
          "output_type": "display_data",
          "data": {
            "text/html": [
              "<span style=\"color:blue\"> |-dropout_3: 0.4</span>"
            ],
            "text/plain": [
              "<IPython.core.display.HTML object>"
            ]
          },
          "metadata": {
            "tags": []
          }
        },
        {
          "output_type": "display_data",
          "data": {
            "text/html": [
              "<span style=\"color:cyan\"> |-learning_rate: 0.0004442889681244208</span>"
            ],
            "text/plain": [
              "<IPython.core.display.HTML object>"
            ]
          },
          "metadata": {
            "tags": []
          }
        },
        {
          "output_type": "display_data",
          "data": {
            "text/html": [
              "<span style=\"color:blue\"> |-num_filters: 32</span>"
            ],
            "text/plain": [
              "<IPython.core.display.HTML object>"
            ]
          },
          "metadata": {
            "tags": []
          }
        },
        {
          "output_type": "display_data",
          "data": {
            "text/html": [
              "<span style=\"color:cyan\"> |-units: 160</span>"
            ],
            "text/plain": [
              "<IPython.core.display.HTML object>"
            ]
          },
          "metadata": {
            "tags": []
          }
        },
        {
          "output_type": "stream",
          "text": [
            "Epoch 1/40\n",
            "6/6 [==============================] - 74s 12s/step - loss: 0.6941 - accuracy: 0.4667 - val_loss: 0.6931 - val_accuracy: 0.6667\n",
            "Epoch 2/40\n",
            "6/6 [==============================] - 69s 11s/step - loss: 0.6933 - accuracy: 0.5611 - val_loss: 0.6930 - val_accuracy: 0.6667\n",
            "Epoch 3/40\n",
            "6/6 [==============================] - 68s 11s/step - loss: 0.6942 - accuracy: 0.5167 - val_loss: 0.6930 - val_accuracy: 0.6667\n",
            "Epoch 4/40\n",
            "6/6 [==============================] - 69s 11s/step - loss: 0.6954 - accuracy: 0.4944 - val_loss: 0.6929 - val_accuracy: 0.6667\n",
            "Epoch 5/40\n",
            "6/6 [==============================] - 69s 11s/step - loss: 0.6888 - accuracy: 0.5500 - val_loss: 0.6929 - val_accuracy: 0.6667\n",
            "Epoch 6/40\n",
            "6/6 [==============================] - 69s 11s/step - loss: 0.6881 - accuracy: 0.5611 - val_loss: 0.6929 - val_accuracy: 0.6667\n",
            "Epoch 7/40\n",
            "6/6 [==============================] - 68s 11s/step - loss: 0.6909 - accuracy: 0.5000 - val_loss: 0.6928 - val_accuracy: 0.6667\n",
            "Epoch 8/40\n",
            "6/6 [==============================] - 68s 11s/step - loss: 0.6951 - accuracy: 0.4778 - val_loss: 0.6928 - val_accuracy: 0.6667\n",
            "Epoch 9/40\n",
            "6/6 [==============================] - 69s 11s/step - loss: 0.6905 - accuracy: 0.4889 - val_loss: 0.6927 - val_accuracy: 0.6667\n",
            "Epoch 10/40\n",
            "6/6 [==============================] - 69s 12s/step - loss: 0.6879 - accuracy: 0.5778 - val_loss: 0.6927 - val_accuracy: 0.6667\n",
            "Epoch 11/40\n",
            "6/6 [==============================] - 69s 12s/step - loss: 0.6919 - accuracy: 0.5056 - val_loss: 0.6926 - val_accuracy: 0.6667\n",
            "Epoch 12/40\n",
            "6/6 [==============================] - 69s 12s/step - loss: 0.6931 - accuracy: 0.5111 - val_loss: 0.6926 - val_accuracy: 0.6667\n",
            "Epoch 13/40\n",
            "6/6 [==============================] - 70s 12s/step - loss: 0.6893 - accuracy: 0.5778 - val_loss: 0.6925 - val_accuracy: 0.6667\n",
            "Epoch 14/40\n",
            "6/6 [==============================] - 68s 11s/step - loss: 0.6905 - accuracy: 0.5556 - val_loss: 0.6925 - val_accuracy: 0.6667\n",
            "Epoch 15/40\n",
            "6/6 [==============================] - 68s 11s/step - loss: 0.6902 - accuracy: 0.5500 - val_loss: 0.6924 - val_accuracy: 0.6667\n",
            "Epoch 16/40\n",
            "6/6 [==============================] - 69s 11s/step - loss: 0.6937 - accuracy: 0.5111 - val_loss: 0.6924 - val_accuracy: 0.6667\n",
            "Epoch 17/40\n",
            "6/6 [==============================] - 69s 11s/step - loss: 0.6934 - accuracy: 0.5278 - val_loss: 0.6924 - val_accuracy: 0.6667\n",
            "Epoch 18/40\n",
            "6/6 [==============================] - 69s 11s/step - loss: 0.6922 - accuracy: 0.5333 - val_loss: 0.6923 - val_accuracy: 0.6667\n",
            "Epoch 19/40\n",
            "6/6 [==============================] - 68s 11s/step - loss: 0.6907 - accuracy: 0.5222 - val_loss: 0.6923 - val_accuracy: 0.6667\n",
            "Epoch 20/40\n",
            "6/6 [==============================] - 69s 12s/step - loss: 0.6912 - accuracy: 0.5000 - val_loss: 0.6923 - val_accuracy: 0.6667\n",
            "Epoch 21/40\n",
            "6/6 [==============================] - 69s 12s/step - loss: 0.6951 - accuracy: 0.4944 - val_loss: 0.6923 - val_accuracy: 0.6667\n",
            "Epoch 22/40\n",
            "6/6 [==============================] - 69s 11s/step - loss: 0.6910 - accuracy: 0.5333 - val_loss: 0.6922 - val_accuracy: 0.6667\n",
            "Epoch 23/40\n",
            "6/6 [==============================] - 69s 11s/step - loss: 0.6898 - accuracy: 0.5167 - val_loss: 0.6922 - val_accuracy: 0.6667\n",
            "Epoch 24/40\n",
            "6/6 [==============================] - 69s 11s/step - loss: 0.6915 - accuracy: 0.5444 - val_loss: 0.6922 - val_accuracy: 0.6667\n",
            "Epoch 25/40\n",
            "6/6 [==============================] - 69s 12s/step - loss: 0.6937 - accuracy: 0.5444 - val_loss: 0.6921 - val_accuracy: 0.6667\n",
            "Epoch 26/40\n",
            "6/6 [==============================] - 69s 11s/step - loss: 0.6886 - accuracy: 0.4944 - val_loss: 0.6921 - val_accuracy: 0.6667\n",
            "Epoch 27/40\n",
            "6/6 [==============================] - 69s 12s/step - loss: 0.6897 - accuracy: 0.5000 - val_loss: 0.6921 - val_accuracy: 0.6667\n",
            "Epoch 28/40\n",
            "6/6 [==============================] - 69s 12s/step - loss: 0.6905 - accuracy: 0.5500 - val_loss: 0.6921 - val_accuracy: 0.6667\n",
            "Epoch 29/40\n",
            "6/6 [==============================] - 69s 11s/step - loss: 0.6943 - accuracy: 0.5222 - val_loss: 0.6920 - val_accuracy: 0.6667\n",
            "Epoch 30/40\n",
            "6/6 [==============================] - 69s 11s/step - loss: 0.6904 - accuracy: 0.5389 - val_loss: 0.6920 - val_accuracy: 0.6667\n",
            "Epoch 31/40\n",
            "6/6 [==============================] - 69s 11s/step - loss: 0.6933 - accuracy: 0.5111 - val_loss: 0.6920 - val_accuracy: 0.6667\n",
            "Epoch 32/40\n",
            "6/6 [==============================] - 70s 12s/step - loss: 0.6920 - accuracy: 0.4889 - val_loss: 0.6920 - val_accuracy: 0.6667\n",
            "Epoch 33/40\n",
            "6/6 [==============================] - 69s 11s/step - loss: 0.6954 - accuracy: 0.5389 - val_loss: 0.6919 - val_accuracy: 0.6667\n",
            "Epoch 34/40\n",
            "6/6 [==============================] - 70s 12s/step - loss: 0.6951 - accuracy: 0.5167 - val_loss: 0.6919 - val_accuracy: 0.6667\n",
            "Epoch 35/40\n",
            "6/6 [==============================] - 69s 11s/step - loss: 0.6899 - accuracy: 0.5111 - val_loss: 0.6919 - val_accuracy: 0.6667\n",
            "Epoch 36/40\n",
            "6/6 [==============================] - 69s 12s/step - loss: 0.6959 - accuracy: 0.5333 - val_loss: 0.6919 - val_accuracy: 0.6667\n",
            "Epoch 37/40\n",
            "6/6 [==============================] - 69s 12s/step - loss: 0.6918 - accuracy: 0.5056 - val_loss: 0.6918 - val_accuracy: 0.6667\n",
            "Epoch 38/40\n",
            "6/6 [==============================] - 69s 12s/step - loss: 0.6890 - accuracy: 0.5167 - val_loss: 0.6918 - val_accuracy: 0.6667\n",
            "Epoch 39/40\n",
            "6/6 [==============================] - 69s 12s/step - loss: 0.6913 - accuracy: 0.5000 - val_loss: 0.6918 - val_accuracy: 0.6667\n",
            "Epoch 40/40\n",
            "6/6 [==============================] - 69s 12s/step - loss: 0.6880 - accuracy: 0.5500 - val_loss: 0.6917 - val_accuracy: 0.6667\n",
            "Epoch 1/40\n",
            "6/6 [==============================] - 71s 12s/step - loss: 0.6983 - accuracy: 0.4833 - val_loss: 0.6931 - val_accuracy: 0.6667\n",
            "Epoch 2/40\n",
            "6/6 [==============================] - 69s 12s/step - loss: 0.6933 - accuracy: 0.5278 - val_loss: 0.6930 - val_accuracy: 0.6667\n",
            "Epoch 3/40\n",
            "6/6 [==============================] - 71s 12s/step - loss: 0.6997 - accuracy: 0.4333 - val_loss: 0.6929 - val_accuracy: 0.6667\n",
            "Epoch 4/40\n",
            "6/6 [==============================] - 69s 12s/step - loss: 0.6918 - accuracy: 0.5389 - val_loss: 0.6928 - val_accuracy: 0.6667\n",
            "Epoch 5/40\n",
            "6/6 [==============================] - 70s 12s/step - loss: 0.6931 - accuracy: 0.5222 - val_loss: 0.6928 - val_accuracy: 0.6667\n",
            "Epoch 6/40\n",
            "6/6 [==============================] - 69s 12s/step - loss: 0.6907 - accuracy: 0.5222 - val_loss: 0.6927 - val_accuracy: 0.6667\n",
            "Epoch 7/40\n",
            "6/6 [==============================] - 70s 12s/step - loss: 0.6947 - accuracy: 0.4833 - val_loss: 0.6926 - val_accuracy: 0.6667\n",
            "Epoch 8/40\n",
            "6/6 [==============================] - 70s 12s/step - loss: 0.6977 - accuracy: 0.4444 - val_loss: 0.6926 - val_accuracy: 0.6667\n",
            "Epoch 9/40\n",
            "6/6 [==============================] - 69s 12s/step - loss: 0.6920 - accuracy: 0.5556 - val_loss: 0.6925 - val_accuracy: 0.6667\n",
            "Epoch 10/40\n",
            "6/6 [==============================] - 69s 12s/step - loss: 0.6939 - accuracy: 0.4833 - val_loss: 0.6924 - val_accuracy: 0.6667\n",
            "Epoch 11/40\n",
            "6/6 [==============================] - 70s 12s/step - loss: 0.6983 - accuracy: 0.4167 - val_loss: 0.6924 - val_accuracy: 0.6667\n",
            "Epoch 12/40\n",
            "6/6 [==============================] - 70s 12s/step - loss: 0.6959 - accuracy: 0.4833 - val_loss: 0.6923 - val_accuracy: 0.6667\n",
            "Epoch 13/40\n",
            "6/6 [==============================] - 72s 12s/step - loss: 0.6919 - accuracy: 0.5167 - val_loss: 0.6923 - val_accuracy: 0.6667\n",
            "Epoch 14/40\n",
            "6/6 [==============================] - 68s 11s/step - loss: 0.6931 - accuracy: 0.5556 - val_loss: 0.6922 - val_accuracy: 0.6667\n",
            "Epoch 15/40\n",
            "6/6 [==============================] - 68s 11s/step - loss: 0.6903 - accuracy: 0.5611 - val_loss: 0.6922 - val_accuracy: 0.6667\n",
            "Epoch 16/40\n",
            "6/6 [==============================] - 71s 12s/step - loss: 0.6962 - accuracy: 0.5056 - val_loss: 0.6921 - val_accuracy: 0.6667\n",
            "Epoch 17/40\n",
            "6/6 [==============================] - 68s 11s/step - loss: 0.6941 - accuracy: 0.4778 - val_loss: 0.6921 - val_accuracy: 0.6667\n",
            "Epoch 18/40\n",
            "6/6 [==============================] - 68s 11s/step - loss: 0.6943 - accuracy: 0.4833 - val_loss: 0.6921 - val_accuracy: 0.6667\n",
            "Epoch 19/40\n",
            "6/6 [==============================] - 67s 11s/step - loss: 0.6899 - accuracy: 0.5333 - val_loss: 0.6920 - val_accuracy: 0.6667\n",
            "Epoch 20/40\n",
            "6/6 [==============================] - 68s 11s/step - loss: 0.6889 - accuracy: 0.5444 - val_loss: 0.6920 - val_accuracy: 0.6667\n",
            "Epoch 21/40\n",
            "6/6 [==============================] - 68s 11s/step - loss: 0.6889 - accuracy: 0.5333 - val_loss: 0.6919 - val_accuracy: 0.6667\n",
            "Epoch 22/40\n",
            "6/6 [==============================] - 68s 11s/step - loss: 0.6970 - accuracy: 0.4778 - val_loss: 0.6919 - val_accuracy: 0.6667\n",
            "Epoch 23/40\n",
            "6/6 [==============================] - 68s 11s/step - loss: 0.6942 - accuracy: 0.5278 - val_loss: 0.6918 - val_accuracy: 0.6667\n",
            "Epoch 24/40\n",
            "6/6 [==============================] - 68s 11s/step - loss: 0.6916 - accuracy: 0.5056 - val_loss: 0.6918 - val_accuracy: 0.6667\n",
            "Epoch 25/40\n",
            "6/6 [==============================] - 68s 11s/step - loss: 0.6948 - accuracy: 0.5111 - val_loss: 0.6918 - val_accuracy: 0.6667\n",
            "Epoch 26/40\n",
            "6/6 [==============================] - 68s 11s/step - loss: 0.6979 - accuracy: 0.5111 - val_loss: 0.6917 - val_accuracy: 0.6667\n",
            "Epoch 27/40\n",
            "6/6 [==============================] - 68s 11s/step - loss: 0.6960 - accuracy: 0.5167 - val_loss: 0.6917 - val_accuracy: 0.6667\n",
            "Epoch 28/40\n",
            "6/6 [==============================] - 68s 11s/step - loss: 0.6902 - accuracy: 0.5722 - val_loss: 0.6917 - val_accuracy: 0.6667\n",
            "Epoch 29/40\n",
            "6/6 [==============================] - 68s 11s/step - loss: 0.6956 - accuracy: 0.5111 - val_loss: 0.6917 - val_accuracy: 0.6667\n",
            "Epoch 30/40\n",
            "6/6 [==============================] - 68s 11s/step - loss: 0.6908 - accuracy: 0.5278 - val_loss: 0.6916 - val_accuracy: 0.6667\n",
            "Epoch 31/40\n",
            "6/6 [==============================] - 68s 11s/step - loss: 0.6872 - accuracy: 0.5222 - val_loss: 0.6916 - val_accuracy: 0.6667\n",
            "Epoch 32/40\n",
            "6/6 [==============================] - 68s 11s/step - loss: 0.6884 - accuracy: 0.5444 - val_loss: 0.6916 - val_accuracy: 0.6667\n",
            "Epoch 33/40\n",
            "6/6 [==============================] - 68s 11s/step - loss: 0.6890 - accuracy: 0.5167 - val_loss: 0.6916 - val_accuracy: 0.6667\n",
            "Epoch 34/40\n",
            "6/6 [==============================] - 68s 11s/step - loss: 0.6912 - accuracy: 0.4944 - val_loss: 0.6916 - val_accuracy: 0.6667\n",
            "Epoch 35/40\n",
            "6/6 [==============================] - 68s 11s/step - loss: 0.6937 - accuracy: 0.5167 - val_loss: 0.6916 - val_accuracy: 0.6667\n",
            "Epoch 36/40\n",
            "6/6 [==============================] - 68s 11s/step - loss: 0.6938 - accuracy: 0.5056 - val_loss: 0.6915 - val_accuracy: 0.6667\n",
            "Epoch 37/40\n",
            "6/6 [==============================] - 68s 11s/step - loss: 0.6913 - accuracy: 0.5333 - val_loss: 0.6915 - val_accuracy: 0.6667\n",
            "Epoch 38/40\n",
            "6/6 [==============================] - 69s 11s/step - loss: 0.6918 - accuracy: 0.5056 - val_loss: 0.6915 - val_accuracy: 0.6667\n",
            "Epoch 39/40\n",
            "6/6 [==============================] - 68s 11s/step - loss: 0.6933 - accuracy: 0.5222 - val_loss: 0.6914 - val_accuracy: 0.6667\n",
            "Epoch 40/40\n",
            "6/6 [==============================] - 68s 11s/step - loss: 0.6879 - accuracy: 0.5278 - val_loss: 0.6914 - val_accuracy: 0.6667\n"
          ],
          "name": "stdout"
        },
        {
          "output_type": "display_data",
          "data": {
            "text/html": [
              "<span style=\"color:#4527A0\"><h1 style=\"font-size:18px\">Trial complete</h1></span>"
            ],
            "text/plain": [
              "<IPython.core.display.HTML object>"
            ]
          },
          "metadata": {
            "tags": []
          }
        },
        {
          "output_type": "display_data",
          "data": {
            "text/html": [
              "<span style=\"color:#4527A0\"><h1 style=\"font-size:18px\">Trial summary</h1></span>"
            ],
            "text/plain": [
              "<IPython.core.display.HTML object>"
            ]
          },
          "metadata": {
            "tags": []
          }
        },
        {
          "output_type": "display_data",
          "data": {
            "text/html": [
              "<span style=\"color:cyan\"> |-Trial ID: 93ba5cb244e90db95e7d89d00c8142c4</span>"
            ],
            "text/plain": [
              "<IPython.core.display.HTML object>"
            ]
          },
          "metadata": {
            "tags": []
          }
        },
        {
          "output_type": "display_data",
          "data": {
            "text/html": [
              "<span style=\"color:cyan\"> |-Score: 0.6666666865348816</span>"
            ],
            "text/plain": [
              "<IPython.core.display.HTML object>"
            ]
          },
          "metadata": {
            "tags": []
          }
        },
        {
          "output_type": "display_data",
          "data": {
            "text/html": [
              "<span style=\"color:cyan\"> |-Best step: 0</span>"
            ],
            "text/plain": [
              "<IPython.core.display.HTML object>"
            ]
          },
          "metadata": {
            "tags": []
          }
        },
        {
          "output_type": "display_data",
          "data": {
            "text/html": [
              "<span style=\"color:#7E57C2\"><h2 style=\"font-size:16px\">Hyperparameters:</h2></span>"
            ],
            "text/plain": [
              "<IPython.core.display.HTML object>"
            ]
          },
          "metadata": {
            "tags": []
          }
        },
        {
          "output_type": "display_data",
          "data": {
            "text/html": [
              "<span style=\"color:cyan\"> |-dense_activation: tanh</span>"
            ],
            "text/plain": [
              "<IPython.core.display.HTML object>"
            ]
          },
          "metadata": {
            "tags": []
          }
        },
        {
          "output_type": "display_data",
          "data": {
            "text/html": [
              "<span style=\"color:blue\"> |-dropout_1: 0.1</span>"
            ],
            "text/plain": [
              "<IPython.core.display.HTML object>"
            ]
          },
          "metadata": {
            "tags": []
          }
        },
        {
          "output_type": "display_data",
          "data": {
            "text/html": [
              "<span style=\"color:cyan\"> |-dropout_2: 0.30000000000000004</span>"
            ],
            "text/plain": [
              "<IPython.core.display.HTML object>"
            ]
          },
          "metadata": {
            "tags": []
          }
        },
        {
          "output_type": "display_data",
          "data": {
            "text/html": [
              "<span style=\"color:blue\"> |-dropout_3: 0.15000000000000002</span>"
            ],
            "text/plain": [
              "<IPython.core.display.HTML object>"
            ]
          },
          "metadata": {
            "tags": []
          }
        },
        {
          "output_type": "display_data",
          "data": {
            "text/html": [
              "<span style=\"color:cyan\"> |-learning_rate: 0.00016355245798526342</span>"
            ],
            "text/plain": [
              "<IPython.core.display.HTML object>"
            ]
          },
          "metadata": {
            "tags": []
          }
        },
        {
          "output_type": "display_data",
          "data": {
            "text/html": [
              "<span style=\"color:blue\"> |-num_filters: 64</span>"
            ],
            "text/plain": [
              "<IPython.core.display.HTML object>"
            ]
          },
          "metadata": {
            "tags": []
          }
        },
        {
          "output_type": "display_data",
          "data": {
            "text/html": [
              "<span style=\"color:cyan\"> |-units: 256</span>"
            ],
            "text/plain": [
              "<IPython.core.display.HTML object>"
            ]
          },
          "metadata": {
            "tags": []
          }
        },
        {
          "output_type": "stream",
          "text": [
            "Epoch 1/40\n",
            "6/6 [==============================] - 67s 11s/step - loss: 0.6944 - accuracy: 0.4722 - val_loss: 0.6931 - val_accuracy: 0.6667\n",
            "Epoch 2/40\n",
            "6/6 [==============================] - 65s 11s/step - loss: 0.6893 - accuracy: 0.5111 - val_loss: 0.6930 - val_accuracy: 0.6667\n",
            "Epoch 3/40\n",
            "6/6 [==============================] - 65s 11s/step - loss: 0.6933 - accuracy: 0.5333 - val_loss: 0.6931 - val_accuracy: 0.6667\n",
            "Epoch 4/40\n",
            "6/6 [==============================] - 65s 11s/step - loss: 0.6967 - accuracy: 0.5222 - val_loss: 0.6931 - val_accuracy: 0.6667\n",
            "Epoch 5/40\n",
            "6/6 [==============================] - 66s 11s/step - loss: 0.6963 - accuracy: 0.5111 - val_loss: 0.6931 - val_accuracy: 0.6667\n",
            "Epoch 6/40\n",
            "6/6 [==============================] - 65s 11s/step - loss: 0.6938 - accuracy: 0.5667 - val_loss: 0.6931 - val_accuracy: 0.6667\n",
            "Epoch 7/40\n",
            "6/6 [==============================] - 65s 11s/step - loss: 0.6939 - accuracy: 0.5111 - val_loss: 0.6931 - val_accuracy: 0.6667\n",
            "Epoch 8/40\n",
            "6/6 [==============================] - 65s 11s/step - loss: 0.6922 - accuracy: 0.5500 - val_loss: 0.6931 - val_accuracy: 0.6667\n",
            "Epoch 9/40\n",
            "6/6 [==============================] - 66s 11s/step - loss: 0.6892 - accuracy: 0.5389 - val_loss: 0.6931 - val_accuracy: 0.6667\n",
            "Epoch 10/40\n",
            "6/6 [==============================] - 65s 11s/step - loss: 0.6881 - accuracy: 0.5500 - val_loss: 0.6931 - val_accuracy: 0.6667\n",
            "Epoch 11/40\n",
            "6/6 [==============================] - 66s 11s/step - loss: 0.6886 - accuracy: 0.5167 - val_loss: 0.6931 - val_accuracy: 0.6667\n",
            "Epoch 12/40\n",
            "6/6 [==============================] - 65s 11s/step - loss: 0.6959 - accuracy: 0.5222 - val_loss: 0.6932 - val_accuracy: 0.3333\n",
            "Epoch 13/40\n",
            "6/6 [==============================] - 65s 11s/step - loss: 0.6931 - accuracy: 0.5278 - val_loss: 0.6932 - val_accuracy: 0.3333\n",
            "Epoch 14/40\n",
            "6/6 [==============================] - 65s 11s/step - loss: 0.6872 - accuracy: 0.5833 - val_loss: 0.6932 - val_accuracy: 0.3333\n",
            "Epoch 15/40\n",
            "6/6 [==============================] - 65s 11s/step - loss: 0.7008 - accuracy: 0.5500 - val_loss: 0.6933 - val_accuracy: 0.3333\n",
            "Epoch 16/40\n",
            "6/6 [==============================] - 65s 11s/step - loss: 0.6935 - accuracy: 0.5056 - val_loss: 0.6933 - val_accuracy: 0.3333\n",
            "Epoch 17/40\n",
            "6/6 [==============================] - 66s 11s/step - loss: 0.7009 - accuracy: 0.5167 - val_loss: 0.6933 - val_accuracy: 0.3333\n",
            "Epoch 18/40\n",
            "6/6 [==============================] - 64s 11s/step - loss: 0.6984 - accuracy: 0.5111 - val_loss: 0.6933 - val_accuracy: 0.3333\n",
            "Epoch 19/40\n",
            "6/6 [==============================] - 65s 11s/step - loss: 0.6937 - accuracy: 0.5111 - val_loss: 0.6933 - val_accuracy: 0.3333\n",
            "Epoch 20/40\n",
            "6/6 [==============================] - 65s 11s/step - loss: 0.6965 - accuracy: 0.5167 - val_loss: 0.6933 - val_accuracy: 0.3333\n",
            "Epoch 21/40\n",
            "6/6 [==============================] - 65s 11s/step - loss: 0.6863 - accuracy: 0.5333 - val_loss: 0.6934 - val_accuracy: 0.3333\n",
            "Epoch 22/40\n",
            "6/6 [==============================] - 69s 11s/step - loss: 0.6934 - accuracy: 0.5389 - val_loss: 0.6933 - val_accuracy: 0.3333\n",
            "Epoch 23/40\n",
            "6/6 [==============================] - 65s 11s/step - loss: 0.6922 - accuracy: 0.5056 - val_loss: 0.6933 - val_accuracy: 0.3333\n",
            "Epoch 24/40\n",
            "6/6 [==============================] - 65s 11s/step - loss: 0.6879 - accuracy: 0.5722 - val_loss: 0.6933 - val_accuracy: 0.3333\n",
            "Epoch 25/40\n",
            "6/6 [==============================] - 65s 11s/step - loss: 0.7008 - accuracy: 0.4889 - val_loss: 0.6934 - val_accuracy: 0.3333\n",
            "Epoch 26/40\n",
            "6/6 [==============================] - 65s 11s/step - loss: 0.6933 - accuracy: 0.5111 - val_loss: 0.6933 - val_accuracy: 0.3333\n",
            "Epoch 27/40\n",
            "6/6 [==============================] - 66s 11s/step - loss: 0.6924 - accuracy: 0.5222 - val_loss: 0.6934 - val_accuracy: 0.3333\n",
            "Epoch 28/40\n",
            "6/6 [==============================] - 66s 11s/step - loss: 0.6899 - accuracy: 0.5444 - val_loss: 0.6934 - val_accuracy: 0.3333\n",
            "Epoch 29/40\n",
            "6/6 [==============================] - 66s 11s/step - loss: 0.6939 - accuracy: 0.5389 - val_loss: 0.6934 - val_accuracy: 0.3333\n",
            "Epoch 30/40\n",
            "6/6 [==============================] - 65s 11s/step - loss: 0.6832 - accuracy: 0.5722 - val_loss: 0.6934 - val_accuracy: 0.3333\n",
            "Epoch 31/40\n",
            "6/6 [==============================] - 66s 11s/step - loss: 0.6892 - accuracy: 0.5278 - val_loss: 0.6934 - val_accuracy: 0.3333\n",
            "Epoch 32/40\n",
            "6/6 [==============================] - 66s 11s/step - loss: 0.6985 - accuracy: 0.5000 - val_loss: 0.6934 - val_accuracy: 0.3333\n",
            "Epoch 33/40\n",
            "6/6 [==============================] - 66s 11s/step - loss: 0.6824 - accuracy: 0.5667 - val_loss: 0.6934 - val_accuracy: 0.3333\n",
            "Epoch 34/40\n",
            "6/6 [==============================] - 66s 11s/step - loss: 0.6837 - accuracy: 0.5722 - val_loss: 0.6934 - val_accuracy: 0.3333\n",
            "Epoch 35/40\n",
            "6/6 [==============================] - 66s 11s/step - loss: 0.6874 - accuracy: 0.5278 - val_loss: 0.6935 - val_accuracy: 0.3333\n",
            "Epoch 36/40\n",
            "6/6 [==============================] - 65s 11s/step - loss: 0.6949 - accuracy: 0.5167 - val_loss: 0.6935 - val_accuracy: 0.3333\n",
            "Epoch 37/40\n",
            "6/6 [==============================] - 65s 11s/step - loss: 0.6940 - accuracy: 0.5056 - val_loss: 0.6935 - val_accuracy: 0.3333\n",
            "Epoch 38/40\n",
            "2/6 [=========>....................] - ETA: 26s - loss: 0.6858 - accuracy: 0.5469"
          ],
          "name": "stdout"
        }
      ]
    },
    {
      "cell_type": "code",
      "metadata": {
        "id": "9eX8gl_vmLIp",
        "colab_type": "code",
        "colab": {}
      },
      "source": [
        ""
      ],
      "execution_count": 0,
      "outputs": []
    }
  ]
}